{
 "cells": [
  {
   "cell_type": "markdown",
   "metadata": {},
   "source": [
    "### Clustering Coefficient"
   ]
  },
  {
   "cell_type": "code",
   "execution_count": null,
   "metadata": {},
   "outputs": [],
   "source": []
  },
  {
   "cell_type": "code",
   "execution_count": 2,
   "metadata": {},
   "outputs": [],
   "source": [
    "import networkx as nx\n",
    "G = nx.Graph()\n",
    "G.add_edges_from([('A',1),('A',2),('A',3),('A',4),('A',5)])"
   ]
  },
  {
   "cell_type": "code",
   "execution_count": 3,
   "metadata": {},
   "outputs": [
    {
     "data": {
      "image/png": "[encoded data removed]",
      "text/plain": [
       "<Figure size 432x288 with 1 Axes>"
      ]
     },
     "metadata": {},
     "output_type": "display_data"
    }
   ],
   "source": [
    "nx.draw_networkx(G, with_labels = True, node_color ='blue')"
   ]
  },
  {
   "cell_type": "markdown",
   "metadata": {},
   "source": [
    "#### using a in-built function"
   ]
  },
  {
   "cell_type": "code",
   "execution_count": 4,
   "metadata": {},
   "outputs": [
    {
     "name": "stdout",
     "output_type": "stream",
     "text": [
      "{'A': 0, 1: 0, 2: 0, 3: 0, 4: 0, 5: 0}\n"
     ]
    }
   ],
   "source": [
    "print(nx.clustering(G))"
   ]
  },
  {
   "cell_type": "code",
   "execution_count": null,
   "metadata": {},
   "outputs": [],
   "source": []
  },
  {
   "cell_type": "code",
   "execution_count": 5,
   "metadata": {},
   "outputs": [
    {
     "name": "stdout",
     "output_type": "stream",
     "text": [
      "1\n"
     ]
    }
   ],
   "source": [
    "print(nx.number_connected_components(G))"
   ]
  },
  {
   "cell_type": "code",
   "execution_count": 6,
   "metadata": {},
   "outputs": [
    {
     "name": "stdout",
     "output_type": "stream",
     "text": [
      "[{1, 2, 3, 4, 'A', 5}]\n"
     ]
    }
   ],
   "source": [
    "print(list(nx.connected_components(G)))"
   ]
  },
  {
   "cell_type": "code",
   "execution_count": 7,
   "metadata": {},
   "outputs": [
    {
     "name": "stdout",
     "output_type": "stream",
     "text": [
      "1\n"
     ]
    }
   ],
   "source": [
    "print(nx.node_connectivity(G))"
   ]
  },
  {
   "cell_type": "code",
   "execution_count": 8,
   "metadata": {},
   "outputs": [
    {
     "name": "stdout",
     "output_type": "stream",
     "text": [
      "1\n"
     ]
    }
   ],
   "source": [
    "print(nx.edge_connectivity(G))"
   ]
  },
  {
   "cell_type": "markdown",
   "metadata": {},
   "source": [
    "#### average clustering coefficient of the given graph"
   ]
  },
  {
   "cell_type": "code",
   "execution_count": 9,
   "metadata": {},
   "outputs": [
    {
     "name": "stdout",
     "output_type": "stream",
     "text": [
      "0.0\n"
     ]
    }
   ],
   "source": [
    "coefficients = nx.clustering(G)\n",
    "average = sum(coefficients.values())/len(coefficients)\n",
    "print(average)"
   ]
  },
  {
   "cell_type": "code",
   "execution_count": 10,
   "metadata": {},
   "outputs": [
    {
     "data": {
      "text/plain": [
       "EdgeView([('A', 1), ('A', 2), ('A', 3), ('A', 4), ('A', 5)])"
      ]
     },
     "execution_count": 10,
     "metadata": {},
     "output_type": "execute_result"
    }
   ],
   "source": [
    "G.edges"
   ]
  },
  {
   "cell_type": "markdown",
   "metadata": {},
   "source": [
    "### Clustering coefficient using the user defined function "
   ]
  },
  {
   "cell_type": "code",
   "execution_count": 11,
   "metadata": {},
   "outputs": [
    {
     "ename": "NameError",
     "evalue": "name 'node_edges' is not defined",
     "output_type": "error",
     "traceback": [
      "\u001b[1;31m---------------------------------------------------------------------------\u001b[0m",
      "\u001b[1;31mNameError\u001b[0m                                 Traceback (most recent call last)",
      "\u001b[1;32m<ipython-input-11-9c2571d2717f>\u001b[0m in \u001b[0;36m<module>\u001b[1;34m\u001b[0m\n\u001b[0;32m     21\u001b[0m         \u001b[0mprint\u001b[0m\u001b[1;33m(\u001b[0m\u001b[0mclustering\u001b[0m\u001b[1;33m)\u001b[0m\u001b[1;33m\u001b[0m\u001b[1;33m\u001b[0m\u001b[0m\n\u001b[0;32m     22\u001b[0m         \u001b[1;32mreturn\u001b[0m \u001b[0mclustering\u001b[0m\u001b[1;33m\u001b[0m\u001b[1;33m\u001b[0m\u001b[0m\n\u001b[1;32m---> 23\u001b[1;33m \u001b[0mprint\u001b[0m\u001b[1;33m(\u001b[0m\u001b[0mnode_edges\u001b[0m\u001b[1;33m)\u001b[0m\u001b[1;33m\u001b[0m\u001b[1;33m\u001b[0m\u001b[0m\n\u001b[0m",
      "\u001b[1;31mNameError\u001b[0m: name 'node_edges' is not defined"
     ]
    }
   ],
   "source": [
    "def clustering_coef(G,node):\n",
    "    node_edges = []\n",
    "    pos_triad = []\n",
    "    triad = 0\n",
    "    \n",
    "    for neighbour in G[node]:\n",
    "        node_edges.append(neighbour)\n",
    "        \n",
    "    for i in node_edges:\n",
    "        for j in node_edges:\n",
    "            pos_triad.append((i,j))\n",
    "   \n",
    "    for t in G.edges:\n",
    "        if t in pos_triad:\n",
    "            triad+=1\n",
    "    if triad == 0:\n",
    "        print(float(0))\n",
    "        return 0 \n",
    "    else:\n",
    "        clustering = float((2*triad)/(len(node_edges)*(len(node_edges)-1)))\n",
    "        print(clustering)\n",
    "        return clustering\n",
    "print(node_edges)"
   ]
  },
  {
   "cell_type": "code",
   "execution_count": 46,
   "metadata": {},
   "outputs": [
    {
     "data": {
      "text/plain": [
       "NodeView(('A', 1, 2, 3, 4, 5))"
      ]
     },
     "execution_count": 46,
     "metadata": {},
     "output_type": "execute_result"
    }
   ],
   "source": [
    "G.nodes()"
   ]
  },
  {
   "cell_type": "code",
   "execution_count": 47,
   "metadata": {},
   "outputs": [
    {
     "name": "stdout",
     "output_type": "stream",
     "text": [
      "The graph with 0 coefficient\n",
      "The clustering coefficient of node A\n",
      "0.0\n",
      "0.0\n",
      "The clustering coefficient of node 1\n",
      "0.0\n",
      "0.0\n",
      "The clustering coefficient of node 2\n",
      "0.0\n",
      "0.0\n",
      "The clustering coefficient of node 3\n",
      "0.0\n",
      "0.0\n",
      "The clustering coefficient of node 4\n",
      "0.0\n",
      "0.0\n",
      "The clustering coefficient of node 5\n",
      "0.0\n",
      "0.0\n",
      "the average clustering coefficient of the graph is: 0.0\n"
     ]
    }
   ],
   "source": [
    "print('The graph with 0 coefficient')\n",
    "sum_of_coeff = 0\n",
    "for n in G.nodes():\n",
    "    print('The clustering coefficient of node',n)\n",
    "    clustering_coef(G,n)\n",
    "    sum_of_coeff += clustering_coef(G,n)\n",
    "    \n",
    "\n",
    "print('the average clustering coefficient of the graph is:',sum_of_coeff/len(G.nodes))"
   ]
  },
  {
   "cell_type": "markdown",
   "metadata": {},
   "source": [
    "##### Here,clustering coefficient for the below graph will be 1"
   ]
  },
  {
   "cell_type": "code",
   "execution_count": 48,
   "metadata": {},
   "outputs": [
    {
     "data": {
      "image/png": "[encoded data removed]",
      "text/plain": [
       "<Figure size 432x288 with 1 Axes>"
      ]
     },
     "metadata": {},
     "output_type": "display_data"
    }
   ],
   "source": [
    "G1 = nx.Graph()\n",
    "G1.add_edges_from([('A',1),('A',2),('A',3),('A',4),('A',5),(1,'A'),(2,1),(3,1),(4,1),(5,1),(3,2),(4,2),(5,2),(4,3),(5,3),(5,4)])\n",
    "nx.draw_networkx(G1, with_labels = True, node_color ='blue')"
   ]
  },
  {
   "cell_type": "code",
   "execution_count": 49,
   "metadata": {},
   "outputs": [
    {
     "name": "stdout",
     "output_type": "stream",
     "text": [
      "The graph with 1 coefficient\n",
      "The clustering coefficient of node A\n",
      "1.0\n",
      "1.0\n",
      "The clustering coefficient of node 1\n",
      "1.0\n",
      "1.0\n",
      "The clustering coefficient of node 2\n",
      "1.0\n",
      "1.0\n",
      "The clustering coefficient of node 3\n",
      "1.0\n",
      "1.0\n",
      "The clustering coefficient of node 4\n",
      "1.0\n",
      "1.0\n",
      "The clustering coefficient of node 5\n",
      "1.0\n",
      "1.0\n",
      "the average clustering coefficient of the graph is: 1.0\n"
     ]
    }
   ],
   "source": [
    "print('The graph with 1 coefficient')\n",
    "sum_of_coeff1 = 0\n",
    "for n in G1.nodes():\n",
    "    print('The clustering coefficient of node',n)\n",
    "    clustering_coef(G1,n)\n",
    "    sum_of_coeff1 += clustering_coef(G1,n)\n",
    "    \n",
    "\n",
    "print('the average clustering coefficient of the graph is:',sum_of_coeff1/len(G1.nodes))"
   ]
  },
  {
   "cell_type": "code",
   "execution_count": null,
   "metadata": {},
   "outputs": [],
   "source": []
  },
  {
   "cell_type": "code",
   "execution_count": null,
   "metadata": {},
   "outputs": [],
   "source": []
  }
 ],
 "metadata": {
  "kernelspec": {
   "display_name": "Python 3",
   "language": "python",
   "name": "python3"
  },
  "language_info": {
   "codemirror_mode": {
    "name": "ipython",
    "version": 3
   },
   "file_extension": ".py",
   "mimetype": "text/x-python",
   "name": "python",
   "nbconvert_exporter": "python",
   "pygments_lexer": "ipython3",
   "version": "3.8.5"
  }
 },
 "nbformat": 4,
 "nbformat_minor": 4
}
