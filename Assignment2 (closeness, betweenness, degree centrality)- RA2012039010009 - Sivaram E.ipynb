{
 "cells": [
  {
   "cell_type": "code",
   "execution_count": 1,
   "metadata": {},
   "outputs": [],
   "source": [
    "import networkx as nx\n",
    "import matplotlib.pyplot as plt"
   ]
  },
  {
   "cell_type": "code",
   "execution_count": 2,
   "metadata": {},
   "outputs": [
    {
     "data": {
      "image/png": "[encoded data removed]",
      "text/plain": [
       "<Figure size 432x288 with 1 Axes>"
      ]
     },
     "metadata": {},
     "output_type": "display_data"
    }
   ],
   "source": [
    "G = nx.Graph()\n",
    "\n",
    "G.add_edge(0,5)\n",
    "G.add_edge(0,6)\n",
    "G.add_edge(9,6)\n",
    "G.add_edge(9,7)\n",
    "G.add_edge(9,1)\n",
    "G.add_edge(6,2)\n",
    "G.add_edge(2,8)\n",
    "G.add_edge(8,3)\n",
    "G.add_edge(8,4)\n",
    "\n",
    "nx.draw(G, with_labels = 1)"
   ]
  },
  {
   "cell_type": "code",
   "execution_count": 3,
   "metadata": {},
   "outputs": [],
   "source": [
    "nod = []\n",
    "dc = []\n",
    "cc =[]\n",
    "bc = []"
   ]
  },
  {
   "cell_type": "markdown",
   "metadata": {},
   "source": [
    "## Degree Centrality"
   ]
  },
  {
   "cell_type": "code",
   "execution_count": 4,
   "metadata": {},
   "outputs": [],
   "source": [
    "degrees = [val for (node, val) in G.degree()]\n",
    "nodes  = [node for (node, val) in G.degree()]"
   ]
  },
  {
   "cell_type": "code",
   "execution_count": 5,
   "metadata": {},
   "outputs": [],
   "source": [
    "def deg_cen(degrees, nodes):\n",
    "    i =0\n",
    "    \n",
    "    while i<len(nodes):\n",
    "        print('Node no.',nodes[i],\"Deg_centality :\",degrees[i]/(len(G)-1))\n",
    "        dc.append(round(degrees[i]/(len(G)-1),2))\n",
    "        nod.append(nodes[i])\n",
    "        i += 1\n",
    "    print(dc, nod)\n",
    "    return dc,nod"
   ]
  },
  {
   "cell_type": "code",
   "execution_count": 6,
   "metadata": {},
   "outputs": [
    {
     "name": "stdout",
     "output_type": "stream",
     "text": [
      "Node no. 0 Deg_centality : 0.2222222222222222\n",
      "Node no. 5 Deg_centality : 0.1111111111111111\n",
      "Node no. 6 Deg_centality : 0.3333333333333333\n",
      "Node no. 9 Deg_centality : 0.3333333333333333\n",
      "Node no. 7 Deg_centality : 0.1111111111111111\n",
      "Node no. 1 Deg_centality : 0.1111111111111111\n",
      "Node no. 2 Deg_centality : 0.2222222222222222\n",
      "Node no. 8 Deg_centality : 0.3333333333333333\n",
      "Node no. 3 Deg_centality : 0.1111111111111111\n",
      "Node no. 4 Deg_centality : 0.1111111111111111\n",
      "[0.22, 0.11, 0.33, 0.33, 0.11, 0.11, 0.22, 0.33, 0.11, 0.11] [0, 5, 6, 9, 7, 1, 2, 8, 3, 4]\n"
     ]
    },
    {
     "data": {
      "text/plain": [
       "10"
      ]
     },
     "execution_count": 6,
     "metadata": {},
     "output_type": "execute_result"
    }
   ],
   "source": [
    "deg_cen(degrees, nodes)\n",
    "len(G.nodes())"
   ]
  },
  {
   "cell_type": "markdown",
   "metadata": {},
   "source": [
    "## Closeness Centrality"
   ]
  },
  {
   "cell_type": "code",
   "execution_count": 7,
   "metadata": {},
   "outputs": [],
   "source": [
    "def closeness_centrality(G):\n",
    "    \n",
    "    for i in range (0, len(G.nodes())):\n",
    "        sum_ = 0\n",
    "        centratlity = 0\n",
    "        lenght = len(G.nodes())\n",
    "\n",
    "        for j in range (0, lenght):\n",
    "            sp = nx.shortest_path(G,j,i)\n",
    "            sum_ += len(sp)-1\n",
    "        centrality= sum_/(lenght-1)\n",
    "        cc.append(round(centrality,2))\n",
    "    \n",
    "    return cc\n",
    "    "
   ]
  },
  {
   "cell_type": "code",
   "execution_count": 8,
   "metadata": {},
   "outputs": [
    {
     "data": {
      "text/plain": [
       "[2.56, 3.22, 2.11, 3.44, 3.44, 3.44, 1.89, 3.22, 2.56, 2.33]"
      ]
     },
     "execution_count": 8,
     "metadata": {},
     "output_type": "execute_result"
    }
   ],
   "source": [
    "closeness_centrality(G)\n"
   ]
  },
  {
   "cell_type": "markdown",
   "metadata": {},
   "source": [
    "## Betweenness Centrality"
   ]
  },
  {
   "cell_type": "code",
   "execution_count": 9,
   "metadata": {},
   "outputs": [],
   "source": [
    "\n",
    "def betweenness_centrality(Nodes, len1):\n",
    "    \n",
    "    for n in Nodes:\n",
    "        betweeness_centrality = 0\n",
    "        count=0\n",
    "\n",
    "        for i in range(0, len1):\n",
    "            for j in range(i+1, len1):\n",
    "                sp = list(nx.all_shortest_paths(G, i, j))\n",
    "\n",
    "                count = 0\n",
    "                for p in sp:\n",
    "                    between = len(p)-2\n",
    "                    if between >=1:\n",
    "                        x=1\n",
    "                        while x<=between:\n",
    "                            if p[x]==n:\n",
    "                                count+=1\n",
    "                            x+=1\n",
    "                k=len(nx.shortest_path(G, i, j))-2\n",
    "\n",
    "                if count>=1 and k>=1:\n",
    "                    betweeness_centrality+=count/len(sp)\n",
    "                   \n",
    "                else:\n",
    "                    pass\n",
    "        bc.append(betweeness_centrality)\n",
    "    return bc\n",
    "        "
   ]
  },
  {
   "cell_type": "code",
   "execution_count": 10,
   "metadata": {},
   "outputs": [
    {
     "data": {
      "text/plain": [
       "[8.0, 0, 26.0, 15.0, 0, 0, 18.0, 15.0, 0, 0]"
      ]
     },
     "execution_count": 10,
     "metadata": {},
     "output_type": "execute_result"
    }
   ],
   "source": [
    "Nodes = G.nodes()\n",
    "len1 = len(nodes)\n",
    "\n",
    "betweenness_centrality(Nodes, len1)"
   ]
  },
  {
   "cell_type": "code",
   "execution_count": 11,
   "metadata": {},
   "outputs": [],
   "source": [
    "import pandas as pd\n",
    "df = pd.DataFrame(list(zip(nod,dc,cc,bc)), columns = ['nodes', 'degree_centrality', \"closeness_centrality\",\"betweenness_centrlaity\"])"
   ]
  },
  {
   "cell_type": "code",
   "execution_count": 12,
   "metadata": {},
   "outputs": [
    {
     "data": {
      "text/html": [
       "<div>\n",
       "<style scoped>\n",
       "    .dataframe tbody tr th:only-of-type {\n",
       "        vertical-align: middle;\n",
       "    }\n",
       "\n",
       "    .dataframe tbody tr th {\n",
       "        vertical-align: top;\n",
       "    }\n",
       "\n",
       "    .dataframe thead th {\n",
       "        text-align: right;\n",
       "    }\n",
       "</style>\n",
       "<table border=\"1\" class=\"dataframe\">\n",
       "  <thead>\n",
       "    <tr style=\"text-align: right;\">\n",
       "      <th></th>\n",
       "      <th>nodes</th>\n",
       "      <th>degree_centrality</th>\n",
       "      <th>closeness_centrality</th>\n",
       "      <th>betweenness_centrlaity</th>\n",
       "    </tr>\n",
       "  </thead>\n",
       "  <tbody>\n",
       "    <tr>\n",
       "      <th>0</th>\n",
       "      <td>0</td>\n",
       "      <td>0.22</td>\n",
       "      <td>2.56</td>\n",
       "      <td>8.0</td>\n",
       "    </tr>\n",
       "    <tr>\n",
       "      <th>1</th>\n",
       "      <td>5</td>\n",
       "      <td>0.11</td>\n",
       "      <td>3.22</td>\n",
       "      <td>0.0</td>\n",
       "    </tr>\n",
       "    <tr>\n",
       "      <th>2</th>\n",
       "      <td>6</td>\n",
       "      <td>0.33</td>\n",
       "      <td>2.11</td>\n",
       "      <td>26.0</td>\n",
       "    </tr>\n",
       "    <tr>\n",
       "      <th>3</th>\n",
       "      <td>9</td>\n",
       "      <td>0.33</td>\n",
       "      <td>3.44</td>\n",
       "      <td>15.0</td>\n",
       "    </tr>\n",
       "    <tr>\n",
       "      <th>4</th>\n",
       "      <td>7</td>\n",
       "      <td>0.11</td>\n",
       "      <td>3.44</td>\n",
       "      <td>0.0</td>\n",
       "    </tr>\n",
       "    <tr>\n",
       "      <th>5</th>\n",
       "      <td>1</td>\n",
       "      <td>0.11</td>\n",
       "      <td>3.44</td>\n",
       "      <td>0.0</td>\n",
       "    </tr>\n",
       "    <tr>\n",
       "      <th>6</th>\n",
       "      <td>2</td>\n",
       "      <td>0.22</td>\n",
       "      <td>1.89</td>\n",
       "      <td>18.0</td>\n",
       "    </tr>\n",
       "    <tr>\n",
       "      <th>7</th>\n",
       "      <td>8</td>\n",
       "      <td>0.33</td>\n",
       "      <td>3.22</td>\n",
       "      <td>15.0</td>\n",
       "    </tr>\n",
       "    <tr>\n",
       "      <th>8</th>\n",
       "      <td>3</td>\n",
       "      <td>0.11</td>\n",
       "      <td>2.56</td>\n",
       "      <td>0.0</td>\n",
       "    </tr>\n",
       "    <tr>\n",
       "      <th>9</th>\n",
       "      <td>4</td>\n",
       "      <td>0.11</td>\n",
       "      <td>2.33</td>\n",
       "      <td>0.0</td>\n",
       "    </tr>\n",
       "  </tbody>\n",
       "</table>\n",
       "</div>"
      ],
      "text/plain": [
       "   nodes  degree_centrality  closeness_centrality  betweenness_centrlaity\n",
       "0      0               0.22                  2.56                     8.0\n",
       "1      5               0.11                  3.22                     0.0\n",
       "2      6               0.33                  2.11                    26.0\n",
       "3      9               0.33                  3.44                    15.0\n",
       "4      7               0.11                  3.44                     0.0\n",
       "5      1               0.11                  3.44                     0.0\n",
       "6      2               0.22                  1.89                    18.0\n",
       "7      8               0.33                  3.22                    15.0\n",
       "8      3               0.11                  2.56                     0.0\n",
       "9      4               0.11                  2.33                     0.0"
      ]
     },
     "execution_count": 12,
     "metadata": {},
     "output_type": "execute_result"
    }
   ],
   "source": [
    "df"
   ]
  },
  {
   "cell_type": "code",
   "execution_count": 13,
   "metadata": {},
   "outputs": [
    {
     "data": {
      "text/html": [
       "<div>\n",
       "<style scoped>\n",
       "    .dataframe tbody tr th:only-of-type {\n",
       "        vertical-align: middle;\n",
       "    }\n",
       "\n",
       "    .dataframe tbody tr th {\n",
       "        vertical-align: top;\n",
       "    }\n",
       "\n",
       "    .dataframe thead th {\n",
       "        text-align: right;\n",
       "    }\n",
       "</style>\n",
       "<table border=\"1\" class=\"dataframe\">\n",
       "  <thead>\n",
       "    <tr style=\"text-align: right;\">\n",
       "      <th></th>\n",
       "      <th>nodes</th>\n",
       "      <th>degree_centrality</th>\n",
       "      <th>closeness_centrality</th>\n",
       "      <th>betweenness_centrlaity</th>\n",
       "    </tr>\n",
       "  </thead>\n",
       "  <tbody>\n",
       "    <tr>\n",
       "      <th>0</th>\n",
       "      <td>0</td>\n",
       "      <td>0.22</td>\n",
       "      <td>2.56</td>\n",
       "      <td>8.0</td>\n",
       "    </tr>\n",
       "    <tr>\n",
       "      <th>5</th>\n",
       "      <td>1</td>\n",
       "      <td>0.11</td>\n",
       "      <td>3.44</td>\n",
       "      <td>0.0</td>\n",
       "    </tr>\n",
       "    <tr>\n",
       "      <th>6</th>\n",
       "      <td>2</td>\n",
       "      <td>0.22</td>\n",
       "      <td>1.89</td>\n",
       "      <td>18.0</td>\n",
       "    </tr>\n",
       "    <tr>\n",
       "      <th>8</th>\n",
       "      <td>3</td>\n",
       "      <td>0.11</td>\n",
       "      <td>2.56</td>\n",
       "      <td>0.0</td>\n",
       "    </tr>\n",
       "    <tr>\n",
       "      <th>9</th>\n",
       "      <td>4</td>\n",
       "      <td>0.11</td>\n",
       "      <td>2.33</td>\n",
       "      <td>0.0</td>\n",
       "    </tr>\n",
       "    <tr>\n",
       "      <th>1</th>\n",
       "      <td>5</td>\n",
       "      <td>0.11</td>\n",
       "      <td>3.22</td>\n",
       "      <td>0.0</td>\n",
       "    </tr>\n",
       "    <tr>\n",
       "      <th>2</th>\n",
       "      <td>6</td>\n",
       "      <td>0.33</td>\n",
       "      <td>2.11</td>\n",
       "      <td>26.0</td>\n",
       "    </tr>\n",
       "    <tr>\n",
       "      <th>4</th>\n",
       "      <td>7</td>\n",
       "      <td>0.11</td>\n",
       "      <td>3.44</td>\n",
       "      <td>0.0</td>\n",
       "    </tr>\n",
       "    <tr>\n",
       "      <th>7</th>\n",
       "      <td>8</td>\n",
       "      <td>0.33</td>\n",
       "      <td>3.22</td>\n",
       "      <td>15.0</td>\n",
       "    </tr>\n",
       "    <tr>\n",
       "      <th>3</th>\n",
       "      <td>9</td>\n",
       "      <td>0.33</td>\n",
       "      <td>3.44</td>\n",
       "      <td>15.0</td>\n",
       "    </tr>\n",
       "  </tbody>\n",
       "</table>\n",
       "</div>"
      ],
      "text/plain": [
       "   nodes  degree_centrality  closeness_centrality  betweenness_centrlaity\n",
       "0      0               0.22                  2.56                     8.0\n",
       "5      1               0.11                  3.44                     0.0\n",
       "6      2               0.22                  1.89                    18.0\n",
       "8      3               0.11                  2.56                     0.0\n",
       "9      4               0.11                  2.33                     0.0\n",
       "1      5               0.11                  3.22                     0.0\n",
       "2      6               0.33                  2.11                    26.0\n",
       "4      7               0.11                  3.44                     0.0\n",
       "7      8               0.33                  3.22                    15.0\n",
       "3      9               0.33                  3.44                    15.0"
      ]
     },
     "execution_count": 13,
     "metadata": {},
     "output_type": "execute_result"
    }
   ],
   "source": [
    " df.sort_values(by=['nodes'])"
   ]
  },
  {
   "cell_type": "markdown",
   "metadata": {},
   "source": [
    "### Conclusion"
   ]
  },
  {
   "cell_type": "markdown",
   "metadata": {},
   "source": [
    "### The node 6 is important node in the graph with highest betweenness centrality in the graph quantifyin the importance of the information flow and easy to access by all the nodes in the graph with relative higher closeness and the degree centrality ."
   ]
  },
  {
   "cell_type": "code",
   "execution_count": null,
   "metadata": {},
   "outputs": [],
   "source": []
  }
 ],
 "metadata": {
  "kernelspec": {
   "display_name": "Python 3",
   "language": "python",
   "name": "python3"
  },
  "language_info": {
   "codemirror_mode": {
    "name": "ipython",
    "version": 3
   },
   "file_extension": ".py",
   "mimetype": "text/x-python",
   "name": "python",
   "nbconvert_exporter": "python",
   "pygments_lexer": "ipython3",
   "version": "3.8.5"
  }
 },
 "nbformat": 4,
 "nbformat_minor": 4
}
