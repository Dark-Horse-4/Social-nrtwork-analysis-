{
 "cells": [
  {
   "cell_type": "code",
   "execution_count": 1,
   "metadata": {},
   "outputs": [],
   "source": [
    "import os\n",
    "import numpy as np\n",
    "import pandas as pd\n",
    "import matplotlib.pyplot as plt\n",
    "import networkx as nx"
   ]
  },
  {
   "cell_type": "code",
   "execution_count": 2,
   "metadata": {},
   "outputs": [
    {
     "data": {
      "text/html": [
       "<div>\n",
       "<style scoped>\n",
       "    .dataframe tbody tr th:only-of-type {\n",
       "        vertical-align: middle;\n",
       "    }\n",
       "\n",
       "    .dataframe tbody tr th {\n",
       "        vertical-align: top;\n",
       "    }\n",
       "\n",
       "    .dataframe thead th {\n",
       "        text-align: right;\n",
       "    }\n",
       "</style>\n",
       "<table border=\"1\" class=\"dataframe\">\n",
       "  <thead>\n",
       "    <tr style=\"text-align: right;\">\n",
       "      <th></th>\n",
       "      <th>NODE</th>\n",
       "      <th>FRAUD_MANUAL</th>\n",
       "      <th>INCOME</th>\n",
       "      <th>TAX</th>\n",
       "      <th>REFUND</th>\n",
       "    </tr>\n",
       "  </thead>\n",
       "  <tbody>\n",
       "    <tr>\n",
       "      <th>0</th>\n",
       "      <td>Harry</td>\n",
       "      <td>0</td>\n",
       "      <td>1000000</td>\n",
       "      <td>200000</td>\n",
       "      <td>100000</td>\n",
       "    </tr>\n",
       "    <tr>\n",
       "      <th>1</th>\n",
       "      <td>Ram</td>\n",
       "      <td>0</td>\n",
       "      <td>1000000</td>\n",
       "      <td>200000</td>\n",
       "      <td>0</td>\n",
       "    </tr>\n",
       "    <tr>\n",
       "      <th>2</th>\n",
       "      <td>Shiv</td>\n",
       "      <td>0</td>\n",
       "      <td>1000000</td>\n",
       "      <td>200000</td>\n",
       "      <td>10000</td>\n",
       "    </tr>\n",
       "    <tr>\n",
       "      <th>3</th>\n",
       "      <td>Ford</td>\n",
       "      <td>0</td>\n",
       "      <td>500000</td>\n",
       "      <td>90000</td>\n",
       "      <td>20000</td>\n",
       "    </tr>\n",
       "    <tr>\n",
       "      <th>4</th>\n",
       "      <td>Shayam</td>\n",
       "      <td>0</td>\n",
       "      <td>600000</td>\n",
       "      <td>110000</td>\n",
       "      <td>0</td>\n",
       "    </tr>\n",
       "    <tr>\n",
       "      <th>5</th>\n",
       "      <td>DK</td>\n",
       "      <td>0</td>\n",
       "      <td>4000000</td>\n",
       "      <td>400000</td>\n",
       "      <td>40000</td>\n",
       "    </tr>\n",
       "    <tr>\n",
       "      <th>6</th>\n",
       "      <td>PK</td>\n",
       "      <td>1</td>\n",
       "      <td>6000000</td>\n",
       "      <td>1200000</td>\n",
       "      <td>110000</td>\n",
       "    </tr>\n",
       "    <tr>\n",
       "      <th>7</th>\n",
       "      <td>John</td>\n",
       "      <td>0</td>\n",
       "      <td>500000</td>\n",
       "      <td>90000</td>\n",
       "      <td>10000</td>\n",
       "    </tr>\n",
       "    <tr>\n",
       "      <th>8</th>\n",
       "      <td>Lee</td>\n",
       "      <td>0</td>\n",
       "      <td>600000</td>\n",
       "      <td>110000</td>\n",
       "      <td>10000</td>\n",
       "    </tr>\n",
       "    <tr>\n",
       "      <th>9</th>\n",
       "      <td>CK</td>\n",
       "      <td>1</td>\n",
       "      <td>600000</td>\n",
       "      <td>120000</td>\n",
       "      <td>110000</td>\n",
       "    </tr>\n",
       "  </tbody>\n",
       "</table>\n",
       "</div>"
      ],
      "text/plain": [
       "     NODE  FRAUD_MANUAL   INCOME      TAX  REFUND\n",
       "0   Harry             0  1000000   200000  100000\n",
       "1     Ram             0  1000000   200000       0\n",
       "2    Shiv             0  1000000   200000   10000\n",
       "3    Ford             0   500000    90000   20000\n",
       "4  Shayam             0   600000   110000       0\n",
       "5      DK             0  4000000   400000   40000\n",
       "6      PK             1  6000000  1200000  110000\n",
       "7    John             0   500000    90000   10000\n",
       "8     Lee             0   600000   110000   10000\n",
       "9      CK             1   600000   120000  110000"
      ]
     },
     "execution_count": 2,
     "metadata": {},
     "output_type": "execute_result"
    }
   ],
   "source": [
    "train_nodes = pd.read_csv('sna_nodes_data.csv')\n",
    "train_nodes"
   ]
  },
  {
   "cell_type": "code",
   "execution_count": 3,
   "metadata": {},
   "outputs": [
    {
     "name": "stdout",
     "output_type": "stream",
     "text": [
      "<class 'pandas.core.frame.DataFrame'>\n",
      "RangeIndex: 10 entries, 0 to 9\n",
      "Data columns (total 5 columns):\n",
      " #   Column        Non-Null Count  Dtype \n",
      "---  ------        --------------  ----- \n",
      " 0   NODE          10 non-null     object\n",
      " 1   FRAUD_MANUAL  10 non-null     int64 \n",
      " 2   INCOME        10 non-null     int64 \n",
      " 3   TAX           10 non-null     int64 \n",
      " 4   REFUND        10 non-null     int64 \n",
      "dtypes: int64(4), object(1)\n",
      "memory usage: 528.0+ bytes\n"
     ]
    }
   ],
   "source": [
    "train_nodes.info()\n"
   ]
  },
  {
   "cell_type": "code",
   "execution_count": 4,
   "metadata": {},
   "outputs": [
    {
     "data": {
      "text/html": [
       "<div>\n",
       "<style scoped>\n",
       "    .dataframe tbody tr th:only-of-type {\n",
       "        vertical-align: middle;\n",
       "    }\n",
       "\n",
       "    .dataframe tbody tr th {\n",
       "        vertical-align: top;\n",
       "    }\n",
       "\n",
       "    .dataframe thead th {\n",
       "        text-align: right;\n",
       "    }\n",
       "</style>\n",
       "<table border=\"1\" class=\"dataframe\">\n",
       "  <thead>\n",
       "    <tr style=\"text-align: right;\">\n",
       "      <th></th>\n",
       "      <th>FRAUD_MANUAL</th>\n",
       "      <th>INCOME</th>\n",
       "      <th>TAX</th>\n",
       "      <th>REFUND</th>\n",
       "    </tr>\n",
       "  </thead>\n",
       "  <tbody>\n",
       "    <tr>\n",
       "      <th>0</th>\n",
       "      <td>0</td>\n",
       "      <td>1000000</td>\n",
       "      <td>200000</td>\n",
       "      <td>100000</td>\n",
       "    </tr>\n",
       "    <tr>\n",
       "      <th>1</th>\n",
       "      <td>0</td>\n",
       "      <td>1000000</td>\n",
       "      <td>200000</td>\n",
       "      <td>0</td>\n",
       "    </tr>\n",
       "    <tr>\n",
       "      <th>2</th>\n",
       "      <td>0</td>\n",
       "      <td>1000000</td>\n",
       "      <td>200000</td>\n",
       "      <td>10000</td>\n",
       "    </tr>\n",
       "    <tr>\n",
       "      <th>3</th>\n",
       "      <td>0</td>\n",
       "      <td>500000</td>\n",
       "      <td>90000</td>\n",
       "      <td>20000</td>\n",
       "    </tr>\n",
       "    <tr>\n",
       "      <th>4</th>\n",
       "      <td>0</td>\n",
       "      <td>600000</td>\n",
       "      <td>110000</td>\n",
       "      <td>0</td>\n",
       "    </tr>\n",
       "    <tr>\n",
       "      <th>5</th>\n",
       "      <td>0</td>\n",
       "      <td>4000000</td>\n",
       "      <td>400000</td>\n",
       "      <td>40000</td>\n",
       "    </tr>\n",
       "    <tr>\n",
       "      <th>6</th>\n",
       "      <td>1</td>\n",
       "      <td>6000000</td>\n",
       "      <td>1200000</td>\n",
       "      <td>110000</td>\n",
       "    </tr>\n",
       "    <tr>\n",
       "      <th>7</th>\n",
       "      <td>0</td>\n",
       "      <td>500000</td>\n",
       "      <td>90000</td>\n",
       "      <td>10000</td>\n",
       "    </tr>\n",
       "    <tr>\n",
       "      <th>8</th>\n",
       "      <td>0</td>\n",
       "      <td>600000</td>\n",
       "      <td>110000</td>\n",
       "      <td>10000</td>\n",
       "    </tr>\n",
       "    <tr>\n",
       "      <th>9</th>\n",
       "      <td>1</td>\n",
       "      <td>600000</td>\n",
       "      <td>120000</td>\n",
       "      <td>110000</td>\n",
       "    </tr>\n",
       "  </tbody>\n",
       "</table>\n",
       "</div>"
      ],
      "text/plain": [
       "   FRAUD_MANUAL   INCOME      TAX  REFUND\n",
       "0             0  1000000   200000  100000\n",
       "1             0  1000000   200000       0\n",
       "2             0  1000000   200000   10000\n",
       "3             0   500000    90000   20000\n",
       "4             0   600000   110000       0\n",
       "5             0  4000000   400000   40000\n",
       "6             1  6000000  1200000  110000\n",
       "7             0   500000    90000   10000\n",
       "8             0   600000   110000   10000\n",
       "9             1   600000   120000  110000"
      ]
     },
     "execution_count": 4,
     "metadata": {},
     "output_type": "execute_result"
    }
   ],
   "source": [
    "train_nodes.select_dtypes(include='int64')\n"
   ]
  },
  {
   "cell_type": "code",
   "execution_count": 5,
   "metadata": {},
   "outputs": [
    {
     "data": {
      "text/html": [
       "<div>\n",
       "<style scoped>\n",
       "    .dataframe tbody tr th:only-of-type {\n",
       "        vertical-align: middle;\n",
       "    }\n",
       "\n",
       "    .dataframe tbody tr th {\n",
       "        vertical-align: top;\n",
       "    }\n",
       "\n",
       "    .dataframe thead th {\n",
       "        text-align: right;\n",
       "    }\n",
       "</style>\n",
       "<table border=\"1\" class=\"dataframe\">\n",
       "  <thead>\n",
       "    <tr style=\"text-align: right;\">\n",
       "      <th></th>\n",
       "      <th>FRAUD_MANUAL</th>\n",
       "      <th>INCOME</th>\n",
       "      <th>TAX</th>\n",
       "      <th>REFUND</th>\n",
       "    </tr>\n",
       "  </thead>\n",
       "  <tbody>\n",
       "    <tr>\n",
       "      <th>0</th>\n",
       "      <td>0</td>\n",
       "      <td>1000000</td>\n",
       "      <td>200000</td>\n",
       "      <td>100000</td>\n",
       "    </tr>\n",
       "    <tr>\n",
       "      <th>1</th>\n",
       "      <td>0</td>\n",
       "      <td>1000000</td>\n",
       "      <td>200000</td>\n",
       "      <td>0</td>\n",
       "    </tr>\n",
       "    <tr>\n",
       "      <th>2</th>\n",
       "      <td>0</td>\n",
       "      <td>1000000</td>\n",
       "      <td>200000</td>\n",
       "      <td>10000</td>\n",
       "    </tr>\n",
       "    <tr>\n",
       "      <th>3</th>\n",
       "      <td>0</td>\n",
       "      <td>500000</td>\n",
       "      <td>90000</td>\n",
       "      <td>20000</td>\n",
       "    </tr>\n",
       "    <tr>\n",
       "      <th>4</th>\n",
       "      <td>0</td>\n",
       "      <td>600000</td>\n",
       "      <td>110000</td>\n",
       "      <td>0</td>\n",
       "    </tr>\n",
       "    <tr>\n",
       "      <th>5</th>\n",
       "      <td>0</td>\n",
       "      <td>4000000</td>\n",
       "      <td>400000</td>\n",
       "      <td>40000</td>\n",
       "    </tr>\n",
       "    <tr>\n",
       "      <th>6</th>\n",
       "      <td>1</td>\n",
       "      <td>6000000</td>\n",
       "      <td>1200000</td>\n",
       "      <td>110000</td>\n",
       "    </tr>\n",
       "    <tr>\n",
       "      <th>7</th>\n",
       "      <td>0</td>\n",
       "      <td>500000</td>\n",
       "      <td>90000</td>\n",
       "      <td>10000</td>\n",
       "    </tr>\n",
       "    <tr>\n",
       "      <th>8</th>\n",
       "      <td>0</td>\n",
       "      <td>600000</td>\n",
       "      <td>110000</td>\n",
       "      <td>10000</td>\n",
       "    </tr>\n",
       "    <tr>\n",
       "      <th>9</th>\n",
       "      <td>1</td>\n",
       "      <td>600000</td>\n",
       "      <td>120000</td>\n",
       "      <td>110000</td>\n",
       "    </tr>\n",
       "  </tbody>\n",
       "</table>\n",
       "</div>"
      ],
      "text/plain": [
       "   FRAUD_MANUAL   INCOME      TAX  REFUND\n",
       "0             0  1000000   200000  100000\n",
       "1             0  1000000   200000       0\n",
       "2             0  1000000   200000   10000\n",
       "3             0   500000    90000   20000\n",
       "4             0   600000   110000       0\n",
       "5             0  4000000   400000   40000\n",
       "6             1  6000000  1200000  110000\n",
       "7             0   500000    90000   10000\n",
       "8             0   600000   110000   10000\n",
       "9             1   600000   120000  110000"
      ]
     },
     "execution_count": 5,
     "metadata": {},
     "output_type": "execute_result"
    }
   ],
   "source": [
    "train_nodes.select_dtypes(include=np.number)\n"
   ]
  },
  {
   "cell_type": "code",
   "execution_count": 6,
   "metadata": {},
   "outputs": [
    {
     "data": {
      "text/plain": [
       "0     harry\n",
       "1       ram\n",
       "2      shiv\n",
       "3      ford\n",
       "4    shayam\n",
       "5        dk\n",
       "6        pk\n",
       "7      john\n",
       "8       lee\n",
       "9        ck\n",
       "Name: NODE, dtype: object"
      ]
     },
     "execution_count": 6,
     "metadata": {},
     "output_type": "execute_result"
    }
   ],
   "source": [
    "train_nodes.NODE.str.lower()\n"
   ]
  },
  {
   "cell_type": "code",
   "execution_count": 7,
   "metadata": {},
   "outputs": [
    {
     "data": {
      "text/html": [
       "<div>\n",
       "<style scoped>\n",
       "    .dataframe tbody tr th:only-of-type {\n",
       "        vertical-align: middle;\n",
       "    }\n",
       "\n",
       "    .dataframe tbody tr th {\n",
       "        vertical-align: top;\n",
       "    }\n",
       "\n",
       "    .dataframe thead th {\n",
       "        text-align: right;\n",
       "    }\n",
       "</style>\n",
       "<table border=\"1\" class=\"dataframe\">\n",
       "  <thead>\n",
       "    <tr style=\"text-align: right;\">\n",
       "      <th></th>\n",
       "      <th>FROM</th>\n",
       "      <th>TO</th>\n",
       "      <th>WEIGHT</th>\n",
       "      <th>BANK_TRANSFER</th>\n",
       "      <th>PROPERTY_BUY_SELL</th>\n",
       "      <th>GOLD_BUY_SELL</th>\n",
       "      <th>EQUITY_BUY_SELL</th>\n",
       "      <th>OTHERS_BUY_SELL</th>\n",
       "      <th>RELATIVE</th>\n",
       "    </tr>\n",
       "  </thead>\n",
       "  <tbody>\n",
       "    <tr>\n",
       "      <th>0</th>\n",
       "      <td>Harry</td>\n",
       "      <td>John</td>\n",
       "      <td>2</td>\n",
       "      <td>1</td>\n",
       "      <td>1</td>\n",
       "      <td>0</td>\n",
       "      <td>0</td>\n",
       "      <td>0</td>\n",
       "      <td>0</td>\n",
       "    </tr>\n",
       "    <tr>\n",
       "      <th>1</th>\n",
       "      <td>Ram</td>\n",
       "      <td>Shiv</td>\n",
       "      <td>9</td>\n",
       "      <td>1</td>\n",
       "      <td>1</td>\n",
       "      <td>1</td>\n",
       "      <td>1</td>\n",
       "      <td>1</td>\n",
       "      <td>1</td>\n",
       "    </tr>\n",
       "    <tr>\n",
       "      <th>2</th>\n",
       "      <td>Shiv</td>\n",
       "      <td>Ford</td>\n",
       "      <td>5</td>\n",
       "      <td>1</td>\n",
       "      <td>1</td>\n",
       "      <td>1</td>\n",
       "      <td>1</td>\n",
       "      <td>1</td>\n",
       "      <td>0</td>\n",
       "    </tr>\n",
       "    <tr>\n",
       "      <th>3</th>\n",
       "      <td>Ford</td>\n",
       "      <td>Harry</td>\n",
       "      <td>3</td>\n",
       "      <td>1</td>\n",
       "      <td>1</td>\n",
       "      <td>0</td>\n",
       "      <td>0</td>\n",
       "      <td>0</td>\n",
       "      <td>1</td>\n",
       "    </tr>\n",
       "    <tr>\n",
       "      <th>4</th>\n",
       "      <td>Shayam</td>\n",
       "      <td>Lee</td>\n",
       "      <td>4</td>\n",
       "      <td>1</td>\n",
       "      <td>0</td>\n",
       "      <td>1</td>\n",
       "      <td>1</td>\n",
       "      <td>1</td>\n",
       "      <td>0</td>\n",
       "    </tr>\n",
       "    <tr>\n",
       "      <th>5</th>\n",
       "      <td>DK</td>\n",
       "      <td>Shayam</td>\n",
       "      <td>2</td>\n",
       "      <td>0</td>\n",
       "      <td>1</td>\n",
       "      <td>1</td>\n",
       "      <td>0</td>\n",
       "      <td>0</td>\n",
       "      <td>0</td>\n",
       "    </tr>\n",
       "    <tr>\n",
       "      <th>6</th>\n",
       "      <td>PK</td>\n",
       "      <td>DK</td>\n",
       "      <td>6</td>\n",
       "      <td>1</td>\n",
       "      <td>1</td>\n",
       "      <td>1</td>\n",
       "      <td>1</td>\n",
       "      <td>1</td>\n",
       "      <td>1</td>\n",
       "    </tr>\n",
       "    <tr>\n",
       "      <th>7</th>\n",
       "      <td>DK</td>\n",
       "      <td>Harry</td>\n",
       "      <td>7</td>\n",
       "      <td>1</td>\n",
       "      <td>1</td>\n",
       "      <td>1</td>\n",
       "      <td>1</td>\n",
       "      <td>1</td>\n",
       "      <td>1</td>\n",
       "    </tr>\n",
       "    <tr>\n",
       "      <th>8</th>\n",
       "      <td>Shiv</td>\n",
       "      <td>Shayam</td>\n",
       "      <td>7</td>\n",
       "      <td>1</td>\n",
       "      <td>1</td>\n",
       "      <td>1</td>\n",
       "      <td>1</td>\n",
       "      <td>1</td>\n",
       "      <td>1</td>\n",
       "    </tr>\n",
       "    <tr>\n",
       "      <th>9</th>\n",
       "      <td>PK</td>\n",
       "      <td>John</td>\n",
       "      <td>3</td>\n",
       "      <td>0</td>\n",
       "      <td>1</td>\n",
       "      <td>1</td>\n",
       "      <td>1</td>\n",
       "      <td>0</td>\n",
       "      <td>0</td>\n",
       "    </tr>\n",
       "    <tr>\n",
       "      <th>10</th>\n",
       "      <td>John</td>\n",
       "      <td>CK</td>\n",
       "      <td>4</td>\n",
       "      <td>1</td>\n",
       "      <td>1</td>\n",
       "      <td>1</td>\n",
       "      <td>1</td>\n",
       "      <td>0</td>\n",
       "      <td>0</td>\n",
       "    </tr>\n",
       "    <tr>\n",
       "      <th>11</th>\n",
       "      <td>John</td>\n",
       "      <td>Lee</td>\n",
       "      <td>6</td>\n",
       "      <td>1</td>\n",
       "      <td>1</td>\n",
       "      <td>1</td>\n",
       "      <td>1</td>\n",
       "      <td>1</td>\n",
       "      <td>1</td>\n",
       "    </tr>\n",
       "    <tr>\n",
       "      <th>12</th>\n",
       "      <td>PK</td>\n",
       "      <td>CK</td>\n",
       "      <td>4</td>\n",
       "      <td>0</td>\n",
       "      <td>1</td>\n",
       "      <td>1</td>\n",
       "      <td>1</td>\n",
       "      <td>1</td>\n",
       "      <td>0</td>\n",
       "    </tr>\n",
       "    <tr>\n",
       "      <th>13</th>\n",
       "      <td>DK</td>\n",
       "      <td>CK</td>\n",
       "      <td>7</td>\n",
       "      <td>1</td>\n",
       "      <td>1</td>\n",
       "      <td>1</td>\n",
       "      <td>1</td>\n",
       "      <td>1</td>\n",
       "      <td>1</td>\n",
       "    </tr>\n",
       "  </tbody>\n",
       "</table>\n",
       "</div>"
      ],
      "text/plain": [
       "      FROM      TO  WEIGHT  BANK_TRANSFER  PROPERTY_BUY_SELL  GOLD_BUY_SELL  \\\n",
       "0    Harry    John       2              1                  1              0   \n",
       "1      Ram    Shiv       9              1                  1              1   \n",
       "2     Shiv    Ford       5              1                  1              1   \n",
       "3     Ford   Harry       3              1                  1              0   \n",
       "4   Shayam     Lee       4              1                  0              1   \n",
       "5       DK  Shayam       2              0                  1              1   \n",
       "6       PK      DK       6              1                  1              1   \n",
       "7       DK   Harry       7              1                  1              1   \n",
       "8     Shiv  Shayam       7              1                  1              1   \n",
       "9       PK    John       3              0                  1              1   \n",
       "10    John      CK       4              1                  1              1   \n",
       "11    John     Lee       6              1                  1              1   \n",
       "12      PK      CK       4              0                  1              1   \n",
       "13      DK      CK       7              1                  1              1   \n",
       "\n",
       "    EQUITY_BUY_SELL  OTHERS_BUY_SELL  RELATIVE  \n",
       "0                 0                0         0  \n",
       "1                 1                1         1  \n",
       "2                 1                1         0  \n",
       "3                 0                0         1  \n",
       "4                 1                1         0  \n",
       "5                 0                0         0  \n",
       "6                 1                1         1  \n",
       "7                 1                1         1  \n",
       "8                 1                1         1  \n",
       "9                 1                0         0  \n",
       "10                1                0         0  \n",
       "11                1                1         1  \n",
       "12                1                1         0  \n",
       "13                1                1         1  "
      ]
     },
     "execution_count": 7,
     "metadata": {},
     "output_type": "execute_result"
    }
   ],
   "source": [
    "train_edges = pd.read_csv('sna_edges_data.csv')\n",
    "train_edges"
   ]
  },
  {
   "cell_type": "code",
   "execution_count": 8,
   "metadata": {},
   "outputs": [],
   "source": [
    "train_edges.FROM=train_edges.FROM.str.lower()\n",
    "train_edges.TO=train_edges.TO.str.lower()"
   ]
  },
  {
   "cell_type": "code",
   "execution_count": 9,
   "metadata": {},
   "outputs": [],
   "source": [
    "train_edges_unique = train_edges.drop_duplicates(subset=['FROM','TO'],keep=False)"
   ]
  },
  {
   "cell_type": "code",
   "execution_count": 10,
   "metadata": {},
   "outputs": [
    {
     "data": {
      "image/png": "[encoded data removed]",
      "text/plain": [
       "<Figure size 432x288 with 1 Axes>"
      ]
     },
     "metadata": {},
     "output_type": "display_data"
    }
   ],
   "source": [
    "def get_graph(x):\n",
    "    G= nx.from_pandas_edgelist(x,'FROM','TO',create_using=nx.Graph())\n",
    "    return G\n",
    "\n",
    "G = get_graph(train_edges_unique)\n",
    "nx.draw(G,with_labels =True)"
   ]
  },
  {
   "cell_type": "code",
   "execution_count": 11,
   "metadata": {},
   "outputs": [
    {
     "data": {
      "text/plain": [
       "0     2\n",
       "1     6\n",
       "2     5\n",
       "3     3\n",
       "4     4\n",
       "5     2\n",
       "6     6\n",
       "7     6\n",
       "8     6\n",
       "9     3\n",
       "10    4\n",
       "11    6\n",
       "12    4\n",
       "13    6\n",
       "Name: WEIGHT, dtype: int64"
      ]
     },
     "execution_count": 11,
     "metadata": {},
     "output_type": "execute_result"
    }
   ],
   "source": [
    "train_edges['WEIGHT']=train_edges.iloc[:,-6:].sum(axis=1)\n",
    "train_edges['WEIGHT']"
   ]
  },
  {
   "cell_type": "code",
   "execution_count": 12,
   "metadata": {},
   "outputs": [
    {
     "data": {
      "image/png": "[encoded data removed]",
      "text/plain": [
       "<Figure size 432x288 with 1 Axes>"
      ]
     },
     "metadata": {},
     "output_type": "display_data"
    }
   ],
   "source": [
    "nx.draw(G,with_labels =True,width = train_edges['WEIGHT'])"
   ]
  },
  {
   "cell_type": "code",
   "execution_count": 13,
   "metadata": {},
   "outputs": [],
   "source": [
    "for i in range(len(list(G.edges()))):\n",
    "    G[list(G.edges())[i][0]][list(G.edges())[i][1]]['weights'] = train_edges.iloc[i]['WEIGHT']"
   ]
  },
  {
   "cell_type": "code",
   "execution_count": 14,
   "metadata": {},
   "outputs": [
    {
     "data": {
      "text/plain": [
       "{('harry', 'john'): 2,\n",
       " ('harry', 'ford'): 6,\n",
       " ('harry', 'dk'): 5,\n",
       " ('john', 'pk'): 3,\n",
       " ('john', 'ck'): 4,\n",
       " ('john', 'lee'): 2,\n",
       " ('ram', 'shiv'): 6,\n",
       " ('shiv', 'ford'): 6,\n",
       " ('shiv', 'shayam'): 6,\n",
       " ('shayam', 'lee'): 3,\n",
       " ('shayam', 'dk'): 4,\n",
       " ('dk', 'pk'): 6,\n",
       " ('dk', 'ck'): 4,\n",
       " ('pk', 'ck'): 6}"
      ]
     },
     "execution_count": 14,
     "metadata": {},
     "output_type": "execute_result"
    }
   ],
   "source": [
    "labels = nx.get_edge_attributes(G, 'weights')\n",
    "d = dict(G.degree)\n",
    "labels"
   ]
  },
  {
   "cell_type": "code",
   "execution_count": 15,
   "metadata": {},
   "outputs": [
    {
     "data": {
      "image/png": "[encoded data removed]",
      "text/plain": [
       "<Figure size 864x576 with 1 Axes>"
      ]
     },
     "metadata": {},
     "output_type": "display_data"
    }
   ],
   "source": [
    "pos = nx.circular_layout(G)\n",
    "plt.figure(figsize=(12,8))\n",
    "d = dict(G.degree)\n",
    "labels = nx.get_edge_attributes(G, 'weights')\n",
    "weights = [G[u][v]['weights'] for u,v in G.edges()]\n",
    "nx.draw(G, pos=pos,node_color='red',with_labels=True, node_size=[d[k]*500 for k in d], width=weights, edge_color='b')\n",
    "nx.draw_networkx_edge_labels(G,pos,edge_labels=labels,font_color='black', font_size=15)\n",
    "plt.show()"
   ]
  },
  {
   "cell_type": "code",
   "execution_count": 16,
   "metadata": {},
   "outputs": [
    {
     "data": {
      "text/plain": [
       "{'harry': 0.5625,\n",
       " 'john': 0.5294117647058824,\n",
       " 'ram': 0.34615384615384615,\n",
       " 'shiv': 0.5,\n",
       " 'ford': 0.47368421052631576,\n",
       " 'shayam': 0.6,\n",
       " 'lee': 0.5,\n",
       " 'dk': 0.6,\n",
       " 'pk': 0.47368421052631576,\n",
       " 'ck': 0.47368421052631576}"
      ]
     },
     "execution_count": 16,
     "metadata": {},
     "output_type": "execute_result"
    }
   ],
   "source": [
    "nx.closeness_centrality(G)"
   ]
  },
  {
   "cell_type": "code",
   "execution_count": 17,
   "metadata": {},
   "outputs": [
    {
     "data": {
      "text/plain": [
       "{'harry': 0.3333333333333333,\n",
       " 'john': 0.4444444444444444,\n",
       " 'ram': 0.1111111111111111,\n",
       " 'shiv': 0.3333333333333333,\n",
       " 'ford': 0.2222222222222222,\n",
       " 'shayam': 0.3333333333333333,\n",
       " 'lee': 0.2222222222222222,\n",
       " 'dk': 0.4444444444444444,\n",
       " 'pk': 0.3333333333333333,\n",
       " 'ck': 0.3333333333333333}"
      ]
     },
     "execution_count": 17,
     "metadata": {},
     "output_type": "execute_result"
    }
   ],
   "source": [
    "nx.degree_centrality(G)"
   ]
  },
  {
   "cell_type": "code",
   "execution_count": 18,
   "metadata": {},
   "outputs": [
    {
     "data": {
      "text/plain": [
       "{'harry': 0.16203703703703703,\n",
       " 'john': 0.15277777777777776,\n",
       " 'ram': 0.0,\n",
       " 'shiv': 0.2638888888888889,\n",
       " 'ford': 0.08333333333333333,\n",
       " 'shayam': 0.29166666666666663,\n",
       " 'lee': 0.05555555555555555,\n",
       " 'dk': 0.25,\n",
       " 'pk': 0.009259259259259259,\n",
       " 'ck': 0.009259259259259259}"
      ]
     },
     "execution_count": 18,
     "metadata": {},
     "output_type": "execute_result"
    }
   ],
   "source": [
    "nx.betweenness_centrality(G)"
   ]
  },
  {
   "cell_type": "code",
   "execution_count": 26,
   "metadata": {},
   "outputs": [],
   "source": [
    "def small_world(G, seed_value):\n",
    "    #omega:= Lr/L - C/CL\n",
    "    omega = round(nx.algorithms.smallworld.omega(G, seed=seed_value))\n",
    "    print(\"Obtained value of omega- \" +str(omega) +\", Guidance: omega ranges between -1 and 1. Values close to 0 means the Gcharacteristics. Value close to -1 means G has few regular patterns shape whereas value close \\ to 1 means g is a random graph.\")\n",
    "         \n",
    "    #sigma: C/Cr / L/Lr\n",
    "         \n",
    "    sigma = round(nx.algorithms.smallworld.sigma(G,seed=seed_value))\n",
    "    print(\"Obtained value of sigma = \" + str(sigma)+\", Guidance : a graph is commonly classified as small world if sigma>1\")\n",
    "         \n",
    "    average_shortest_path_length = []\n",
    "    for C in (G.subgraph(c).copy() for c in nx.connected_components(G)):\n",
    "          average_shortest_path_length.append(round(nx.average_shortest_path_length(C)))\n",
    "     \n",
    "    print(\"Obtained value of average shortest_path_length = \"+ str(average_shortest_path_length))\n",
    "     \n",
    "    return omega, sigma, average_shortest_path_length   "
   ]
  },
  {
   "cell_type": "code",
   "execution_count": 27,
   "metadata": {},
   "outputs": [
    {
     "name": "stdout",
     "output_type": "stream",
     "text": [
      "Obtained value of omega- 0.0, Guidance: omega ranges between -1 and 1. Values close to 0 means the Gcharacteristics. Value close to -1 means G has few regular patterns shape whereas value close \\ to 1 means g is a random graph.\n",
      "Obtained value of sigma = 1.0, Guidance : a graph is commonly classified as small world if sigma>1\n",
      "Obtained value of average shortest_path_length = [2]\n"
     ]
    },
    {
     "data": {
      "text/plain": [
       "(0.0, 1.0, [2])"
      ]
     },
     "execution_count": 27,
     "metadata": {},
     "output_type": "execute_result"
    }
   ],
   "source": [
    "seed_value = 123 ; np.random.seed(seed_value)\n",
    "small_world(G, seed_value)"
   ]
  },
  {
   "cell_type": "code",
   "execution_count": 28,
   "metadata": {},
   "outputs": [
    {
     "data": {
      "text/plain": [
       "2"
      ]
     },
     "execution_count": 28,
     "metadata": {},
     "output_type": "execute_result"
    }
   ],
   "source": [
    "shortest_paths = dict(nx.shortest_path_length(G))\n",
    "node_path_avg = [sum(paths.values()) / len(G.nodes) for node, paths in shortest_paths.items()]\n",
    "avg_path_length = round(sum(node_path_avg) / len(G.nodes))\n",
    "avg_path_length"
   ]
  },
  {
   "cell_type": "code",
   "execution_count": null,
   "metadata": {},
   "outputs": [],
   "source": []
  }
 ],
 "metadata": {
  "kernelspec": {
   "display_name": "Python 3",
   "language": "python",
   "name": "python3"
  },
  "language_info": {
   "codemirror_mode": {
    "name": "ipython",
    "version": 3
   },
   "file_extension": ".py",
   "mimetype": "text/x-python",
   "name": "python",
   "nbconvert_exporter": "python",
   "pygments_lexer": "ipython3",
   "version": "3.8.5"
  }
 },
 "nbformat": 4,
 "nbformat_minor": 4
}
