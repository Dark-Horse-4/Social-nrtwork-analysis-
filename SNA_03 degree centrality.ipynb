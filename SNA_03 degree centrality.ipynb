{
 "cells": [
  {
   "cell_type": "code",
   "execution_count": 2,
   "metadata": {},
   "outputs": [],
   "source": [
    "import networkx as nx\n",
    "import matplotlib.pyplot as plt"
   ]
  },
  {
   "cell_type": "code",
   "execution_count": 13,
   "metadata": {},
   "outputs": [
    {
     "data": {
      "image/png": "[encoded data removed]",
      "text/plain": [
       "<Figure size 432x288 with 1 Axes>"
      ]
     },
     "metadata": {},
     "output_type": "display_data"
    }
   ],
   "source": [
    "G = nx.Graph()\n",
    "\n",
    "G.add_edge(1,4)\n",
    "G.add_edge(1,2)\n",
    "G.add_edge(6,5)\n",
    "G.add_edge(4,5)\n",
    "G.add_edge(2,4)\n",
    "G.add_edge(4,6)\n",
    "G.add_edge(3,5)\n",
    "G.add_edge(1,3)\n",
    "\n",
    "nx.draw(G, with_labels = 1)"
   ]
  },
  {
   "cell_type": "code",
   "execution_count": 14,
   "metadata": {},
   "outputs": [
    {
     "name": "stdout",
     "output_type": "stream",
     "text": [
      "6\n",
      "[1, 4, 2, 6, 5, 3]\n",
      "[(1, 3), (4, 4), (2, 2), (6, 2), (5, 3), (3, 2)]\n"
     ]
    }
   ],
   "source": [
    "# to count the number of nodes\n",
    "\n",
    "print(len(G))\n",
    "print(G.nodes())\n",
    "\n",
    "d1 = list(G.degree(G.nodes()))\n",
    "print(d1)"
   ]
  },
  {
   "cell_type": "code",
   "execution_count": 15,
   "metadata": {},
   "outputs": [],
   "source": [
    "degrees = [val for (node, val) in G.degree()]\n",
    "nodes  = [node for (node, val) in G.degree()]"
   ]
  },
  {
   "cell_type": "code",
   "execution_count": 16,
   "metadata": {},
   "outputs": [
    {
     "name": "stdout",
     "output_type": "stream",
     "text": [
      "nodes: [1, 4, 2, 6, 5, 3]\n",
      "degrees: [3, 4, 2, 2, 3, 2]\n"
     ]
    }
   ],
   "source": [
    "print('nodes:', nodes)\n",
    "print('degrees:', degrees)"
   ]
  },
  {
   "cell_type": "code",
   "execution_count": 17,
   "metadata": {},
   "outputs": [
    {
     "name": "stdout",
     "output_type": "stream",
     "text": [
      "max degree: 4\n",
      "position of max deg: 1\n",
      "node pos. with max deg: 1\n",
      "deg centrality for node 4 is 0.8\n"
     ]
    }
   ],
   "source": [
    "print('max degree:', max(degrees))\n",
    "print('position of max deg:', degrees.index(max(degrees)))\n",
    "\n",
    "print('node pos. with max deg:',degrees.index(max(degrees)))\n",
    "\n",
    "print('deg centrality for node', nodes[degrees.index(max(degrees))], 'is', max(degrees)/(len(G)-1))"
   ]
  },
  {
   "cell_type": "code",
   "execution_count": 2,
   "metadata": {},
   "outputs": [],
   "source": [
    "def deg_centrality(degrees, nodes):\n",
    "    i =0\n",
    "    while i<len(nodes):\n",
    "        print('Node',nodes[i],'degree',degrees[i],\"Deg_centality is :\",degrees[i]/(len(G)-1))\n",
    "        i += 1\n",
    "    return\n"
   ]
  },
  {
   "cell_type": "code",
   "execution_count": 3,
   "metadata": {},
   "outputs": [
    {
     "ename": "NameError",
     "evalue": "name 'degrees' is not defined",
     "output_type": "error",
     "traceback": [
      "\u001b[1;31m---------------------------------------------------------------------------\u001b[0m",
      "\u001b[1;31mNameError\u001b[0m                                 Traceback (most recent call last)",
      "\u001b[1;32m<ipython-input-3-43fd0a5e2374>\u001b[0m in \u001b[0;36m<module>\u001b[1;34m\u001b[0m\n\u001b[1;32m----> 1\u001b[1;33m \u001b[0mdeg_centrality\u001b[0m\u001b[1;33m(\u001b[0m\u001b[0mdegrees\u001b[0m\u001b[1;33m,\u001b[0m \u001b[0mnodes\u001b[0m\u001b[1;33m)\u001b[0m\u001b[1;33m\u001b[0m\u001b[1;33m\u001b[0m\u001b[0m\n\u001b[0m",
      "\u001b[1;31mNameError\u001b[0m: name 'degrees' is not defined"
     ]
    }
   ],
   "source": [
    "deg_centrality(degrees, nodes)"
   ]
  },
  {
   "cell_type": "code",
   "execution_count": null,
   "metadata": {},
   "outputs": [],
   "source": []
  }
 ],
 "metadata": {
  "kernelspec": {
   "display_name": "Python 3",
   "language": "python",
   "name": "python3"
  },
  "language_info": {
   "codemirror_mode": {
    "name": "ipython",
    "version": 3
   },
   "file_extension": ".py",
   "mimetype": "text/x-python",
   "name": "python",
   "nbconvert_exporter": "python",
   "pygments_lexer": "ipython3",
   "version": "3.8.5"
  }
 },
 "nbformat": 4,
 "nbformat_minor": 4
}
