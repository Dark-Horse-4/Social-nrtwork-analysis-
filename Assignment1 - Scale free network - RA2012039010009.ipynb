{
 "cells": [
  {
   "cell_type": "markdown",
   "metadata": {},
   "source": [
    "## Scale Free Network"
   ]
  },
  {
   "cell_type": "code",
   "execution_count": 1,
   "metadata": {},
   "outputs": [],
   "source": [
    "import networkx as nx\n",
    "import matplotlib.pyplot as plt\n",
    "import itertools\n",
    "import random"
   ]
  },
  {
   "cell_type": "markdown",
   "metadata": {},
   "source": [
    "#### using Barabasi -albert_graph function\n",
    "#####  m <= n \n"
   ]
  },
  {
   "cell_type": "code",
   "execution_count": 21,
   "metadata": {},
   "outputs": [
    {
     "name": "stdout",
     "output_type": "stream",
     "text": [
      "graph graph\n"
     ]
    },
    {
     "data": {
      "image/png": "[encoded data removed]",
      "text/plain": [
       "<Figure size 432x288 with 1 Axes>"
      ]
     },
     "metadata": {},
     "output_type": "display_data"
    }
   ],
   "source": [
    "n = 6  # Number of nodes\n",
    "m = 2 # Number of initial links\n",
    "seed = 3 # m0 the initial graph \n",
    "\n",
    "G= nx.barabasi_albert_graph(n, m,seed)\n",
    "nx.draw(G, with_labels= True)"
   ]
  },
  {
   "cell_type": "markdown",
   "metadata": {},
   "source": [
    "#### The graph is arranged in row manner"
   ]
  },
  {
   "cell_type": "code",
   "execution_count": 22,
   "metadata": {},
   "outputs": [
    {
     "name": "stdout",
     "output_type": "stream",
     "text": [
      "total node: [0, 1, 2, 3, 4, 5]\n"
     ]
    },
    {
     "data": {
      "image/png": "[encoded data removed]",
      "text/plain": [
       "<Figure size 432x288 with 1 Axes>"
      ]
     },
     "metadata": {},
     "output_type": "display_data"
    }
   ],
   "source": [
    "print(\"total node:\",G.nodes)\n",
    "ncols = 3\n",
    "pos = {i : (i % ncols, (n-i-1) // ncols) for i in G.nodes()}\n",
    "# print(pos)\n",
    "nx.draw(G, pos, with_labels=True)    \n",
    "plt.show()"
   ]
  },
  {
   "cell_type": "markdown",
   "metadata": {},
   "source": [
    "#### The nodes and their degrees"
   ]
  },
  {
   "cell_type": "code",
   "execution_count": 23,
   "metadata": {},
   "outputs": [
    {
     "name": "stdout",
     "output_type": "stream",
     "text": [
      "6\n",
      "node: 0 -> degree: 2\n",
      "node: 1 -> degree: 3\n",
      "node: 2 -> degree: 3\n",
      "node: 3 -> degree: 4\n",
      "node: 4 -> degree: 2\n",
      "node: 5 -> degree: 2\n",
      "Nodes and their degrees as dict: {0: 2, 1: 3, 2: 3, 3: 4, 4: 2, 5: 2}\n"
     ]
    }
   ],
   "source": [
    "degrees = [val for (node, val) in G.degree()]\n",
    "nodes  = [node for (node, val) in G.degree()]\n",
    "print(len(nodes))\n",
    "deg = {}\n",
    "for (n,d) in zip(nodes, degrees):\n",
    "    print('node:', n,'->','degree:', d)\n",
    "    deg[n] = d\n",
    "print('Nodes and their degrees as dict:',deg)"
   ]
  },
  {
   "cell_type": "markdown",
   "metadata": {},
   "source": [
    "### the hubs can be found by the deg_centrality "
   ]
  },
  {
   "cell_type": "code",
   "execution_count": 24,
   "metadata": {},
   "outputs": [
    {
     "name": "stdout",
     "output_type": "stream",
     "text": [
      "\n",
      "Hubs\n"
     ]
    },
    {
     "data": {
      "text/plain": [
       "{3: 0.8, 1: 0.6, 2: 0.6}"
      ]
     },
     "execution_count": 24,
     "metadata": {},
     "output_type": "execute_result"
    }
   ],
   "source": [
    "def find_hub(deg):\n",
    "    i =0\n",
    "    dc = {}\n",
    "    for n, deg in deg.items():\n",
    "        cen = deg/(len(nodes)-1)\n",
    "        dc[n] = cen \n",
    "#         print('Node',n,'->',\"Deg_centality is :\",cen)\n",
    "    k = dict(sorted(dc.items(), key=lambda item: item[1], reverse = True))\n",
    "#     print(k)\n",
    "    k = dict(itertools.islice(k.items(), 3))\n",
    "    print('\\nHubs')\n",
    "    return k\n",
    "\n",
    "find_hub(deg)"
   ]
  },
  {
   "cell_type": "markdown",
   "metadata": {},
   "source": [
    "### The hub with high degree is chosen for the deletion"
   ]
  },
  {
   "cell_type": "code",
   "execution_count": 25,
   "metadata": {},
   "outputs": [
    {
     "name": "stdout",
     "output_type": "stream",
     "text": [
      "\n",
      "Hubs\n",
      "[3, 1, 2]\n",
      "The hub with high degree chosen  is :  3\n"
     ]
    }
   ],
   "source": [
    "p = list(find_hub(deg))\n",
    "print(p)\n",
    "print('The hub with high degree chosen  is : ',p[0])"
   ]
  },
  {
   "cell_type": "markdown",
   "metadata": {},
   "source": [
    "### Find the nodes connected to the node to be deleted\n"
   ]
  },
  {
   "cell_type": "code",
   "execution_count": 26,
   "metadata": {},
   "outputs": [
    {
     "name": "stdout",
     "output_type": "stream",
     "text": [
      "<dict_keyiterator object at 0x00000184BA70D270>\n"
     ]
    },
    {
     "data": {
      "text/plain": [
       "[1, 2, 4, 5]"
      ]
     },
     "execution_count": 26,
     "metadata": {},
     "output_type": "execute_result"
    }
   ],
   "source": [
    "print(G.neighbors(p[0]))\n",
    "[n for n in G.neighbors(p[0])]"
   ]
  },
  {
   "cell_type": "code",
   "execution_count": 27,
   "metadata": {},
   "outputs": [],
   "source": [
    "for neighbor in [n for n in G.neighbors(p[0])]:  ### removal of nodes\n",
    "    G.remove_edge(p[0],neighbor)\n",
    "#     G.remove_node(p[0])\n",
    "    "
   ]
  },
  {
   "cell_type": "markdown",
   "metadata": {},
   "source": [
    "#### the graph after removal"
   ]
  },
  {
   "cell_type": "code",
   "execution_count": 28,
   "metadata": {},
   "outputs": [
    {
     "data": {
      "image/png": "[encoded data removed]",
      "text/plain": [
       "<Figure size 432x288 with 1 Axes>"
      ]
     },
     "metadata": {},
     "output_type": "display_data"
    }
   ],
   "source": [
    "nx.draw(G, pos, with_labels=True) "
   ]
  },
  {
   "cell_type": "markdown",
   "metadata": {},
   "source": [
    "#### Re-calculation of the degrees_cent. and Hubs"
   ]
  },
  {
   "cell_type": "code",
   "execution_count": 29,
   "metadata": {},
   "outputs": [
    {
     "name": "stdout",
     "output_type": "stream",
     "text": [
      "6\n",
      "node: 0 -> degree: 2\n",
      "node: 1 -> degree: 2\n",
      "node: 2 -> degree: 2\n",
      "node: 3 -> degree: 0\n",
      "node: 4 -> degree: 1\n",
      "node: 5 -> degree: 1\n",
      "{0: 2, 1: 2, 2: 2, 3: 0, 4: 1, 5: 1}\n"
     ]
    }
   ],
   "source": [
    "degrees = [val for (node, val) in G.degree()]\n",
    "nodes  = [node for (node, val) in G.degree()]\n",
    "print(len(nodes))\n",
    "deg = {}\n",
    "for (n,d) in zip(nodes, degrees):\n",
    "    print('node:', n,'->','degree:', d)\n",
    "    deg[n] = d\n",
    "print(deg)"
   ]
  },
  {
   "cell_type": "code",
   "execution_count": 30,
   "metadata": {},
   "outputs": [
    {
     "name": "stdout",
     "output_type": "stream",
     "text": [
      "\n",
      "Hubs\n"
     ]
    },
    {
     "data": {
      "text/plain": [
       "[0, 1, 2]"
      ]
     },
     "execution_count": 30,
     "metadata": {},
     "output_type": "execute_result"
    }
   ],
   "source": [
    "list(find_hub(deg))"
   ]
  },
  {
   "cell_type": "code",
   "execution_count": null,
   "metadata": {},
   "outputs": [],
   "source": []
  },
  {
   "cell_type": "code",
   "execution_count": null,
   "metadata": {},
   "outputs": [],
   "source": []
  }
 ],
 "metadata": {
  "kernelspec": {
   "display_name": "Python 3",
   "language": "python",
   "name": "python3"
  },
  "language_info": {
   "codemirror_mode": {
    "name": "ipython",
    "version": 3
   },
   "file_extension": ".py",
   "mimetype": "text/x-python",
   "name": "python",
   "nbconvert_exporter": "python",
   "pygments_lexer": "ipython3",
   "version": "3.8.5"
  }
 },
 "nbformat": 4,
 "nbformat_minor": 4
}
